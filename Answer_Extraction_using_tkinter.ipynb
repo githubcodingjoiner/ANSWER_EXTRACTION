{
 "cells": [
  {
   "cell_type": "code",
   "execution_count": 1,
   "id": "b1671e95-47d0-4ea6-9eb4-0be98529c226",
   "metadata": {},
   "outputs": [],
   "source": [
    "import fitz  # PyMuPDF\n",
    "import pyttsx3  # Text-to-speech library\n",
    "import speech_recognition as sr  # Speech recognition library\n",
    "import tkinter as tk\n",
    "from tkinter import scrolledtext"
   ]
  },
  {
   "cell_type": "code",
   "execution_count": 2,
   "id": "0c34babe-ca09-441b-927f-b642d19b58f7",
   "metadata": {},
   "outputs": [],
   "source": [
    "def speak(text):\n",
    "    engine = pyttsx3.init()\n",
    "    engine.say(text)\n",
    "    engine.runAndWait()"
   ]
  },
  {
   "cell_type": "code",
   "execution_count": 3,
   "id": "f87b0429-866c-4de3-88b8-41e78a4b22b2",
   "metadata": {},
   "outputs": [],
   "source": [
    "def extract_text_from_pdf(pdf_path, start_page=0):\n",
    "    document = fitz.open(pdf_path)\n",
    "    text = \"\"\n",
    "    for page_num in range(start_page, len(document)):\n",
    "        page = document.load_page(page_num)\n",
    "        text += page.get_text()\n",
    "    return text"
   ]
  },
  {
   "cell_type": "code",
   "execution_count": 4,
   "id": "5c67814b-1b3c-47c1-a14c-2e6b2fee5b44",
   "metadata": {},
   "outputs": [],
   "source": [
    "def find_answer(text, keyword):\n",
    "    keyword_index = text.lower().find(keyword.lower())\n",
    "    if keyword_index != -1:\n",
    "        answer_start_index = keyword_index + len(keyword)\n",
    "        # Find the end of the sentence (ending with a period)\n",
    "        answer_end_index = text.find(\".\", answer_start_index)\n",
    "        if answer_end_index == -1:\n",
    "            answer_end_index = len(text)\n",
    "        answer = text[answer_start_index:answer_end_index].strip()\n",
    "        return answer\n",
    "    else:\n",
    "        return \"Answer not found in the PDF\""
   ]
  },
  {
   "cell_type": "code",
   "execution_count": 5,
   "id": "1514a7cc-da9c-48f5-b882-11132077bb7c",
   "metadata": {},
   "outputs": [],
   "source": [
    "def listen_for_input(prompt):\n",
    "    recognizer = sr.Recognizer()\n",
    "    speak(prompt)\n",
    "    with sr.Microphone() as source:\n",
    "        print(f\"Listening for {prompt.lower()}...\")\n",
    "        audio = recognizer.listen(source)\n",
    "    try:\n",
    "        text = recognizer.recognize_google(audio)\n",
    "        print(f\"{prompt}: {text}\\n\")\n",
    "        return text\n",
    "    except sr.UnknownValueError:\n",
    "        print(\"Sorry, I didn't catch that. Please try again.\\n\")\n",
    "        return None\n",
    "    except sr.RequestError:\n",
    "        print(\"Sorry, I encountered an issue with my speech recognition service. Please try again later.\\n\")\n",
    "        return None\n"
   ]
  },
  {
   "cell_type": "code",
   "execution_count": null,
   "id": "c5ead1ee-df4c-47a6-b1d3-cb1fa16d0ecf",
   "metadata": {},
   "outputs": [],
   "source": [
    "def handle_question():\n",
    "    user_question = listen_for_input(\"Question\")\n",
    "    if user_question and 'end' in user_question.lower():\n",
    "        print(\"Stopping...\")\n",
    "        root.destroy()\n",
    "        return\n",
    "    \n",
    "    user_keyword = listen_for_input(\"What is the keyword associated with this question?\")\n",
    "    if user_keyword:\n",
    "        extracted_answer = find_answer(pdf_text, user_keyword)\n",
    "        speak(f\"Extracted Answer: {extracted_answer}\")\n",
    "        result_display.insert(tk.END, f\"Question: {user_question}\\n\")\n",
    "        result_display.insert(tk.END, f\"Keyword: {user_keyword}\\n\")\n",
    "        result_display.insert(tk.END, f\"Keyword: {extracted_answer}\\n\\n\")"
   ]
  },
  {
   "cell_type": "code",
   "execution_count": null,
   "id": "aa89b9f0-b29a-4773-97cc-8641a7045a1d",
   "metadata": {},
   "outputs": [],
   "source": [
    "def main():\n",
    "    global pdf_text, result_display, root\n",
    "    pdf_path = 'introduction-to-natural-language-processing.pdf'  # Path to your PDF file\n",
    "    start_page = 10  # Page numbers are zero-based; 10 means starting from the 11th page\n",
    "    \n",
    "    # Extract text from PDF once at the beginning\n",
    "    pdf_text = extract_text_from_pdf(pdf_path, start_page)\n",
    "    \n",
    "    # Initialize Tkinter root window\n",
    "    root = tk.Tk()\n",
    "    root.title(\"PDF Q&A System\")\n",
    "\n",
    "    frame = tk.Frame(root)\n",
    "    frame.pack(padx=10, pady=10)\n",
    "\n",
    "    button = tk.Button(frame, text=\"Ask Question\", command=handle_question)\n",
    "    button.pack(pady=5)\n",
    "\n",
    "    result_display = scrolledtext.ScrolledText(frame, wrap=tk.WORD, width=80, height=20)\n",
    "    result_display.pack(padx=5, pady=5)\n",
    "\n",
    "    root.mainloop()\n",
    "\n",
    "if __name__ == \"__main__\":\n",
    "    main()"
   ]
  },
  {
   "cell_type": "code",
   "execution_count": null,
   "id": "6df257f7-ce8b-43d1-a993-4bc35c65a929",
   "metadata": {},
   "outputs": [],
   "source": []
  }
 ],
 "metadata": {
  "kernelspec": {
   "display_name": "Python 3 (ipykernel)",
   "language": "python",
   "name": "python3"
  },
  "language_info": {
   "codemirror_mode": {
    "name": "ipython",
    "version": 3
   },
   "file_extension": ".py",
   "mimetype": "text/x-python",
   "name": "python",
   "nbconvert_exporter": "python",
   "pygments_lexer": "ipython3",
   "version": "3.10.9"
  }
 },
 "nbformat": 4,
 "nbformat_minor": 5
}
